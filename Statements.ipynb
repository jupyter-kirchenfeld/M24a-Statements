{
 "cells": [
  {
   "cell_type": "markdown",
   "id": "8fc0b21f",
   "metadata": {},
   "source": [
    "Before you turn this problem in, make sure everything runs as expected. First, **restart the kernel** (in the menubar, select Kernel$\\rightarrow$Restart) and then **run all cells** (in the menubar, select Cell$\\rightarrow$Run All).\n",
    "\n",
    "Make sure you fill in any place that says `YOUR CODE HERE` or \"YOUR ANSWER HERE\", as well as your name and collaborators below:"
   ]
  },
  {
   "cell_type": "code",
   "execution_count": null,
   "id": "31bd9f1a",
   "metadata": {},
   "outputs": [],
   "source": [
    "NAME = \"\"\n",
    "COLLABORATORS = \"\""
   ]
  },
  {
   "cell_type": "markdown",
   "id": "45892c50",
   "metadata": {},
   "source": [
    "---"
   ]
  },
  {
   "cell_type": "markdown",
   "id": "c898cb98-4a0a-4e99-bd95-c95944ce5693",
   "metadata": {
    "deletable": false,
    "editable": false,
    "nbgrader": {
     "cell_type": "markdown",
     "checksum": "969b72a7d24157a09c03a068c745dccf",
     "grade": false,
     "grade_id": "cell-c089e21e7ac8c5f9",
     "locked": true,
     "schema_version": 3,
     "solution": false,
     "task": false
    }
   },
   "source": [
    "# Statements und Zuweisungen\n",
    "\n",
    "## Statements\n",
    "\n",
    "In Python wird Zeile für Zeile ausgeführt. Pro Zeile können wir **ein** Statement formulieren. \n",
    "Das einfachste Statment besteht aus einer beliebigen Zahl:"
   ]
  },
  {
   "cell_type": "code",
   "execution_count": null,
   "id": "12388bf0-b421-4db4-8739-16852ff58cca",
   "metadata": {},
   "outputs": [],
   "source": [
    "42"
   ]
  },
  {
   "cell_type": "markdown",
   "id": "ad23404e-cf3e-455b-8d3f-81bb33ae7825",
   "metadata": {
    "deletable": false,
    "editable": false,
    "nbgrader": {
     "cell_type": "markdown",
     "checksum": "818f7cd33fee4dd5b91f5d896c9d0af3",
     "grade": false,
     "grade_id": "cell-d283252841eb7fa3",
     "locked": true,
     "schema_version": 3,
     "solution": false,
     "task": false
    }
   },
   "source": [
    "**Bemerke:** Steht am Ende einer Zelle ein Statement, so wird dieses unterhalb ausgegeben. Dies wird **evaluieren** genannt. "
   ]
  },
  {
   "cell_type": "markdown",
   "id": "b43a5a1a-338b-48ef-a008-a562902d90cf",
   "metadata": {
    "deletable": false,
    "editable": false,
    "nbgrader": {
     "cell_type": "markdown",
     "checksum": "d6b207df0e02da210cae710356803b79",
     "grade": false,
     "grade_id": "cell-e857bc53a5b4e88d",
     "locked": true,
     "schema_version": 3,
     "solution": false,
     "task": false
    }
   },
   "source": [
    "Mit Statements lässt sich allerdings auch rechnen:"
   ]
  },
  {
   "cell_type": "code",
   "execution_count": null,
   "id": "eba5cc6d-fbdc-4890-b43c-8b14a5a4dc62",
   "metadata": {},
   "outputs": [],
   "source": [
    "2 + 3"
   ]
  },
  {
   "cell_type": "markdown",
   "id": "3225a4a4-b16a-474a-b4ca-81c8ab92bcbe",
   "metadata": {
    "deletable": false,
    "editable": false,
    "nbgrader": {
     "cell_type": "markdown",
     "checksum": "25bcd9d23c1aa48065b7454d2ff5ffc4",
     "grade": false,
     "grade_id": "cell-da7b7efbb0ca1966",
     "locked": true,
     "schema_version": 3,
     "solution": false,
     "task": false
    }
   },
   "source": [
    "**Bemerke:** Zahlen lassen sich mit `+` addieren\n",
    "\n",
    "### Aufgabe:\n",
    "\n",
    "Die folgenden vier Operationen werden für Zahlen unterstützt:\n",
    "\n",
    "- `+`: Addition\n",
    "- `-`: Substraktion\n",
    "- `*`: Multipliktation\n",
    "- `/`: Division\n",
    "\n",
    "Schreibe und evaluiere ein Statement welches mindestens zwei der Operationen einsetzt in die nächste Zelle (YOUR CODE HERE)"
   ]
  },
  {
   "cell_type": "code",
   "execution_count": null,
   "id": "2b19df1a-0dd4-4f73-8533-ceeb5911297e",
   "metadata": {
    "deletable": false,
    "nbgrader": {
     "cell_type": "code",
     "checksum": "287fa36c01735d1e0f39d08bcbdacd3e",
     "grade": true,
     "grade_id": "cell-e71af341d42ade0b",
     "locked": false,
     "points": 0,
     "schema_version": 3,
     "solution": true,
     "task": false
    }
   },
   "outputs": [],
   "source": [
    "# YOUR CODE HERE\n",
    "raise NotImplementedError()"
   ]
  },
  {
   "cell_type": "markdown",
   "id": "7f54cda4-2eb1-49fb-9ffb-e2e3c4101c1e",
   "metadata": {
    "deletable": false,
    "editable": false,
    "nbgrader": {
     "cell_type": "markdown",
     "checksum": "572db03f38956e94a18ca103a252387a",
     "grade": false,
     "grade_id": "cell-98a1de339580010a",
     "locked": true,
     "schema_version": 3,
     "solution": false,
     "task": false
    }
   },
   "source": [
    "Wir können auch Zellen mit Text evaluieren:"
   ]
  },
  {
   "cell_type": "code",
   "execution_count": null,
   "id": "49376342-a98a-4bc5-8095-bbab6c81f696",
   "metadata": {},
   "outputs": [],
   "source": [
    "\"Hallo\" + \" \" + \"Welt\""
   ]
  },
  {
   "cell_type": "markdown",
   "id": "9669efc9-2412-41bb-b00a-627628277bba",
   "metadata": {
    "deletable": false,
    "editable": false,
    "nbgrader": {
     "cell_type": "markdown",
     "checksum": "24027553b1e8efdaea4a5ecd1c7a71c7",
     "grade": false,
     "grade_id": "cell-7e0bfb385abebacf",
     "locked": true,
     "schema_version": 3,
     "solution": false,
     "task": false
    }
   },
   "source": [
    "**Bemerke:** \n",
    "- Texte schreiben wir zwischen zwei `\"`-Symbolen\n",
    "- Texte lassen sich mit `+` verknüpfen (dies wird string concatination gennant)\n",
    "\n",
    "### Aufgabe:\n",
    "\n",
    "Schreibe und evaluiere ein Statement welches mindestens zwei Texte verknüpft in die nächste Zelle (YOUR CODE HERE)"
   ]
  },
  {
   "cell_type": "code",
   "execution_count": null,
   "id": "16960821-a84b-4a33-8df6-5dcfc65cf57c",
   "metadata": {
    "deletable": false,
    "nbgrader": {
     "cell_type": "code",
     "checksum": "8e1c65ff13f9ebeb40c44bdcf108eaa2",
     "grade": true,
     "grade_id": "cell-32e4da0a223db8ce",
     "locked": false,
     "points": 0,
     "schema_version": 3,
     "solution": true,
     "task": false
    }
   },
   "outputs": [],
   "source": [
    "# YOUR CODE HERE\n",
    "raise NotImplementedError()"
   ]
  },
  {
   "cell_type": "markdown",
   "id": "663bb569-f7f6-4349-b1e9-d1dfac740f16",
   "metadata": {
    "deletable": false,
    "editable": false,
    "nbgrader": {
     "cell_type": "markdown",
     "checksum": "b3ff9bdef7a1752c36912a0053830292",
     "grade": false,
     "grade_id": "cell-9536891e979adaf1",
     "locked": true,
     "schema_version": 3,
     "solution": false,
     "task": false
    }
   },
   "source": [
    "### Aufgabe:\n",
    "\n",
    "Was ist der Unterschied zwischen `\"Hallo\" + \" \" + \"Welt\"` und `\"Hallo \" + \"Welt\"`? Spiele mit den verschieden Varianten und halte deine Beobachtungen in der nächsten Zelle (YOUR ANSWER HERE) fest."
   ]
  },
  {
   "cell_type": "markdown",
   "id": "006c9097-7550-4a08-b06b-5d3a07792ca9",
   "metadata": {
    "deletable": false,
    "nbgrader": {
     "cell_type": "markdown",
     "checksum": "612362e8e844ba4ea08f08af08f17e5c",
     "grade": true,
     "grade_id": "cell-6e8fec57e47e4968",
     "locked": false,
     "points": 0,
     "schema_version": 3,
     "solution": true,
     "task": false
    }
   },
   "source": [
    "YOUR ANSWER HERE"
   ]
  },
  {
   "cell_type": "markdown",
   "id": "6c5a6bcb-2d9c-47e4-9d27-890bc6b8c032",
   "metadata": {
    "deletable": false,
    "editable": false,
    "nbgrader": {
     "cell_type": "markdown",
     "checksum": "77542a56c89e88ca83d0a439d33fa9d1",
     "grade": false,
     "grade_id": "cell-201f3204972ebbfd",
     "locked": true,
     "schema_version": 3,
     "solution": false,
     "task": false
    }
   },
   "source": [
    "Python lässt pro Zeile nur ein Statement zu, allerdings können wir ohne Probleme in einer Zelle mehrere Zeilen haben:"
   ]
  },
  {
   "cell_type": "code",
   "execution_count": null,
   "id": "f0914767-5453-4bf2-a25f-b1add549d2be",
   "metadata": {},
   "outputs": [],
   "source": [
    "\"hallo welt\"\n",
    "2 + 3"
   ]
  },
  {
   "cell_type": "markdown",
   "id": "81c291ef-999d-4934-9151-bc04f79ff562",
   "metadata": {
    "deletable": false,
    "editable": false,
    "nbgrader": {
     "cell_type": "markdown",
     "checksum": "e2136b930460d78eda6bb8ceef6d4e9e",
     "grade": false,
     "grade_id": "cell-5536dd0cef6ab5c8",
     "locked": true,
     "schema_version": 3,
     "solution": false,
     "task": false
    }
   },
   "source": [
    "### Aufgabe:\n",
    "\n",
    "Ändere in der nächsten Zelle die Reihenfolge der Zeilen. Was fällt dir auf? Schreibe deine Beobachtungen in die übernächste Zelle (Doppelklick in die Zelle wo \"YOUR ANSWER HERE\" steht)"
   ]
  },
  {
   "cell_type": "code",
   "execution_count": null,
   "id": "7654a2f4-bfbd-444f-9347-66e9e57d13e0",
   "metadata": {},
   "outputs": [],
   "source": [
    "\"hallo welt\"\n",
    "4 + 9\n",
    "\"1 + 1 = 2\""
   ]
  },
  {
   "cell_type": "markdown",
   "id": "b4adec7f-101a-4d1b-a404-715677b7f42e",
   "metadata": {
    "deletable": false,
    "nbgrader": {
     "cell_type": "markdown",
     "checksum": "a3dab9e818aa71318e1e6091a1de0681",
     "grade": true,
     "grade_id": "cell-baba03450166a9c5",
     "locked": false,
     "points": 0,
     "schema_version": 3,
     "solution": true,
     "task": false
    }
   },
   "source": [
    "YOUR ANSWER HERE"
   ]
  },
  {
   "cell_type": "markdown",
   "id": "be381ef8-0fcf-41bd-b78e-f35842dc36e1",
   "metadata": {
    "deletable": false,
    "editable": false,
    "nbgrader": {
     "cell_type": "markdown",
     "checksum": "630192090b459cb9af751299ccc42403",
     "grade": false,
     "grade_id": "cell-b24974ac5043a537",
     "locked": true,
     "schema_version": 3,
     "solution": false,
     "task": false
    }
   },
   "source": [
    "### Aufgabe:\n",
    "\n",
    "Füge eine neue Zelle hinzu (Plus-Zeichen neben dem Speichern-Symbol) und schreibe **mindestens** drei Statements in die Zelle. Führe die Zelle danach aus."
   ]
  },
  {
   "cell_type": "markdown",
   "id": "04294100-7cad-4418-83cd-baa1b2441cc8",
   "metadata": {
    "deletable": false,
    "editable": false,
    "nbgrader": {
     "cell_type": "markdown",
     "checksum": "38fd2a2d6d5fb3d8c9b81215ee4c348f",
     "grade": false,
     "grade_id": "cell-1ab72c5ffc88d067",
     "locked": true,
     "schema_version": 3,
     "solution": false,
     "task": false
    }
   },
   "source": [
    "## Zuweisung\n",
    "\n",
    "Wir können das Ergebnis eines Statements auch einer **Variable** **zuweisen** um in einer anderen Zelle darauf zuzugreifen:"
   ]
  },
  {
   "cell_type": "code",
   "execution_count": null,
   "id": "e2816fab-bae4-4e62-a8de-6e8f3e774f08",
   "metadata": {
    "deletable": false,
    "editable": false,
    "nbgrader": {
     "cell_type": "code",
     "checksum": "e1ec440433f3197399680ed60183e846",
     "grade": false,
     "grade_id": "cell-dc7c373e14419d3e",
     "locked": true,
     "schema_version": 3,
     "solution": false,
     "task": false
    }
   },
   "outputs": [],
   "source": [
    "# Zuweisung\n",
    "resultat = 2 + 10"
   ]
  },
  {
   "cell_type": "code",
   "execution_count": null,
   "id": "85ed8518-1b56-49b0-81a2-2142858ae53e",
   "metadata": {
    "deletable": false,
    "editable": false,
    "nbgrader": {
     "cell_type": "code",
     "checksum": "e1036d0d3b3374ec1b70bfac8535c22e",
     "grade": false,
     "grade_id": "cell-aab60700e443f2ff",
     "locked": true,
     "schema_version": 3,
     "solution": false,
     "task": false
    }
   },
   "outputs": [],
   "source": [
    "# Statement\n",
    "resultat"
   ]
  },
  {
   "cell_type": "markdown",
   "id": "c9721a3d-57cc-48a2-b72d-088a5d2e643d",
   "metadata": {
    "deletable": false,
    "editable": false,
    "nbgrader": {
     "cell_type": "markdown",
     "checksum": "831565def93e54c1b3342ae7fccc26e5",
     "grade": false,
     "grade_id": "cell-c57eb47dddeb00ee",
     "locked": true,
     "schema_version": 3,
     "solution": false,
     "task": false
    }
   },
   "source": [
    "**Bemerke:** Variablen sind für uns ein Weg die Ergebnisse von Statements von einer Zelle in die nächste zu \"transportieren\".\n",
    "\n",
    "Bei einer Zuweisung steht der Variablenname **immer** Links, gefolgt von einem `=`-Zeichen und einem Statement. Wir haben also folgende *Syntax*: `variablen_name = statement`"
   ]
  },
  {
   "cell_type": "markdown",
   "id": "ed7e6179-e93c-428b-87f3-0f7d6469ba2d",
   "metadata": {
    "deletable": false,
    "editable": false,
    "nbgrader": {
     "cell_type": "markdown",
     "checksum": "f76075aa2e8616673ccb24beb84d18b8",
     "grade": false,
     "grade_id": "cell-052d829863cacaf2",
     "locked": true,
     "schema_version": 3,
     "solution": false,
     "task": false
    }
   },
   "source": [
    "### Aufgabe:\n",
    "\n",
    "Weise in der nächsten Zelle (YOUR CODE HERE) der Variable `name` deinen Namen zu."
   ]
  },
  {
   "cell_type": "code",
   "execution_count": null,
   "id": "29cff81e-1238-4780-abd9-a1ab7fa40ef2",
   "metadata": {
    "deletable": false,
    "nbgrader": {
     "cell_type": "code",
     "checksum": "10217d833d1886e54e12e517bc917c0a",
     "grade": false,
     "grade_id": "cell-98fd0ec47c3d131d",
     "locked": false,
     "schema_version": 3,
     "solution": true,
     "task": false
    }
   },
   "outputs": [],
   "source": [
    "# YOUR CODE HERE\n",
    "raise NotImplementedError()"
   ]
  },
  {
   "cell_type": "code",
   "execution_count": null,
   "id": "6d642405-9f96-48b4-8513-5dbf82ee7d61",
   "metadata": {
    "deletable": false,
    "editable": false,
    "nbgrader": {
     "cell_type": "code",
     "checksum": "ce4250b860d8c5b161df42a575e6fa6d",
     "grade": true,
     "grade_id": "cell-4068a28df60a2f53",
     "locked": true,
     "points": 1,
     "schema_version": 3,
     "solution": false,
     "task": false
    }
   },
   "outputs": [],
   "source": [
    "# Bitte lösche diese Zelle nicht!"
   ]
  },
  {
   "cell_type": "markdown",
   "id": "9b2bb666-e46b-487f-a77e-fae45bb569e6",
   "metadata": {
    "deletable": false,
    "editable": false,
    "nbgrader": {
     "cell_type": "markdown",
     "checksum": "8a1f64147c814b0057eea93255863d04",
     "grade": false,
     "grade_id": "cell-94197464659a3179",
     "locked": true,
     "schema_version": 3,
     "solution": false,
     "task": false
    }
   },
   "source": [
    "Wie wir später sehen werden sind Variablen ein zentrales Konzept, welches uns beim Programmieren immer wieder begegnen wird. Im Moment sind Variablen für uns ein Weg die Ergebnisse von Statements von einer Zelle in die nächste zu \"transportieren\". So können wir z.B. nun auf die vorher definierte Variable `name` zugreifen:"
   ]
  },
  {
   "cell_type": "code",
   "execution_count": null,
   "id": "e6846e7e-cebf-4077-a3a2-72612efd693f",
   "metadata": {},
   "outputs": [],
   "source": [
    "\"Hallo\" + \" \" + name"
   ]
  },
  {
   "cell_type": "markdown",
   "id": "2f1fa833-495d-46c0-8241-07cc9b37ac65",
   "metadata": {
    "deletable": false,
    "editable": false,
    "nbgrader": {
     "cell_type": "markdown",
     "checksum": "01344898213ffcb49ead674b48a5851b",
     "grade": false,
     "grade_id": "cell-2e127885a0a824cf",
     "locked": true,
     "schema_version": 3,
     "solution": false,
     "task": false
    }
   },
   "source": [
    "### Aufgabe: \n",
    "\n",
    "1. Erstelle eine neue Zelle und weise der Variable `summand` eine beliebige Zahl zu\n",
    "2. Erstelle eine neue Zelle und berechne `summand` plus eine weitere beliebige Zahl"
   ]
  }
 ],
 "metadata": {
  "kernelspec": {
   "display_name": "Python 3 (ipykernel)",
   "language": "python",
   "name": "python3"
  },
  "language_info": {
   "codemirror_mode": {
    "name": "ipython",
    "version": 3
   },
   "file_extension": ".py",
   "mimetype": "text/x-python",
   "name": "python",
   "nbconvert_exporter": "python",
   "pygments_lexer": "ipython3",
   "version": "3.8.9"
  }
 },
 "nbformat": 4,
 "nbformat_minor": 5
}
